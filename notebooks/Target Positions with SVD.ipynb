{
 "cells": [
  {
   "cell_type": "code",
   "execution_count": 23,
   "metadata": {
    "collapsed": false
   },
   "outputs": [],
   "source": [
    "import matplotlib.pyplot as pl\n",
    "import numpy as np\n",
    "\n",
    "from vector_similarities import compute_similarity as cs\n",
    "reload(cs)\n",
    "\n",
    "from tabulate import tabulate\n",
    "%matplotlib inline"
   ]
  },
  {
   "cell_type": "markdown",
   "metadata": {},
   "source": [
    "### Computing similarity measures for raw data and SVD-processed data\n",
    "\n",
    "Currently looking into:\n",
    "- symmetric and asymmetric free association data matrices\n",
    "- SVD decomposed matrices of different dimensionality"
   ]
  },
  {
   "cell_type": "code",
   "execution_count": 24,
   "metadata": {
    "collapsed": true
   },
   "outputs": [],
   "source": [
    "methods = ['freeassoc_symmetric', 'freeassoc_symmetric_svd_factorize_5018w_2048d', 'freeassoc_symmetric_svd_factorize_5018w_5018d']"
   ]
  },
  {
   "cell_type": "code",
   "execution_count": 25,
   "metadata": {
    "collapsed": false
   },
   "outputs": [
    {
     "name": "stdout",
     "output_type": "stream",
     "text": [
      "Computing statistics with: freeassoc_symmetric\n",
      "117/144 problems exist with the freeassoc_symmetric vocabulary.\n",
      "Average similarity with the target: 0.08045 (std=0.095)\n",
      "Average similarity with all words: 0.00167 (std=0.001)\n",
      "\n",
      "Computing statistics with: freeassoc_symmetric_svd_factorize_5018w_2048d\n",
      "117/144 problems exist with the freeassoc_symmetric_svd_factorize_5018w_2048d vocabulary.\n",
      "Average similarity with the target: 0.22619 (std=0.251)\n",
      "Average similarity with all words: 0.00281 (std=0.001)\n",
      "\n",
      "Computing statistics with: freeassoc_symmetric_svd_factorize_5018w_5018d\n",
      "117/144 problems exist with the freeassoc_symmetric_svd_factorize_5018w_5018d vocabulary.\n",
      "Average similarity with the target: 0.07875 (std=0.094)\n",
      "Average similarity with all words: 0.00164 (std=0.001)\n",
      "\n"
     ]
    }
   ],
   "source": [
    "target_positions = []\n",
    "\n",
    "for method in methods:\n",
    "    print 'Computing statistics with:', method\n",
    "    _, _, targets = cs.compute_similarity(method, quiet=False)\n",
    "\n",
    "    target_positions.append(targets)\n",
    "    print"
   ]
  },
  {
   "cell_type": "markdown",
   "metadata": {},
   "source": [
    "### Target positions\n",
    "Computing the position of the target in the sorted list of dot products for all methods:"
   ]
  },
  {
   "cell_type": "code",
   "execution_count": 26,
   "metadata": {
    "collapsed": false
   },
   "outputs": [],
   "source": [
    "limit = [5, 10, 15, 50, 70]\n",
    "\n",
    "# for every method track how many targets appeared within 'limit[i]' items\n",
    "solved = np.zeros((len(methods), len(limit)))     \n",
    "\n",
    "how_many = lambda x, y: len(np.where(x <= y)[0])\n",
    "\n",
    "for i, targets in enumerate(target_positions):\n",
    "    for j in range(len(limit)):\n",
    "        solved[i, j] = how_many(targets, limit[j])"
   ]
  },
  {
   "cell_type": "code",
   "execution_count": 27,
   "metadata": {
    "collapsed": true
   },
   "outputs": [],
   "source": [
    "to_print = solved.tolist()\n",
    "\n",
    "# prepend method names\n",
    "for i in range(len(to_print)):\n",
    "    to_print[i].insert(0, methods[i][-11:])"
   ]
  },
  {
   "cell_type": "markdown",
   "metadata": {
    "collapsed": true
   },
   "source": [
    "Printing statistics on the position of target among the similar items:"
   ]
  },
  {
   "cell_type": "code",
   "execution_count": 28,
   "metadata": {
    "collapsed": false
   },
   "outputs": [
    {
     "name": "stdout",
     "output_type": "stream",
     "text": [
      "               Target within 5    Target within 10    Target within 15    Target within 50    Target within 70\n",
      "-----------  -----------------  ------------------  ------------------  ------------------  ------------------\n",
      "c_symmetric                  6                  27                  48                  78                  87\n",
      "5018w_2048d                  9                  28                  40                  70                  82\n",
      "5018w_5018d                  6                  27                  47                  78                  87\n"
     ]
    }
   ],
   "source": [
    "headers = ['Target within %d' % x for x in limit]\n",
    "print tabulate(to_print, headers=headers)"
   ]
  },
  {
   "cell_type": "code",
   "execution_count": 29,
   "metadata": {
    "collapsed": false
   },
   "outputs": [
    {
     "data": {
      "image/png": "[encoded data removed]",
      "text/plain": [
       "<matplotlib.figure.Figure at 0x7f3359c18ad0>"
      ]
     },
     "metadata": {},
     "output_type": "display_data"
    }
   ],
   "source": [
    "targets_512 = target_positions[-1]\n",
    "\n",
    "fig = pl.figure(figsize=(12., 3.))\n",
    "\n",
    "axis = [fig.add_subplot(1, 3, 1), \n",
    "        fig.add_subplot(1, 3, 2),\n",
    "        fig.add_subplot(1, 3, 3)]\n",
    "\n",
    "for i, ax in enumerate(axis):\n",
    "    ax.plot(np.where(targets_512 <= limit[i], targets, -1), 'x')\n",
    "    ax.set_ylabel('Target within ' + str(limit[i]) + ' words')\n",
    "    ax.set_ylim(-1, limit[i] + 1)\n",
    "\n",
    "fig.tight_layout()"
   ]
  },
  {
   "cell_type": "code",
   "execution_count": null,
   "metadata": {
    "collapsed": true
   },
   "outputs": [],
   "source": []
  },
  {
   "cell_type": "code",
   "execution_count": null,
   "metadata": {
    "collapsed": true
   },
   "outputs": [],
   "source": []
  },
  {
   "cell_type": "code",
   "execution_count": null,
   "metadata": {
    "collapsed": true
   },
   "outputs": [],
   "source": []
  }
 ],
 "metadata": {
  "kernelspec": {
   "display_name": "Python 2",
   "language": "python",
   "name": "python2"
  },
  "language_info": {
   "codemirror_mode": {
    "name": "ipython",
    "version": 2
   },
   "file_extension": ".py",
   "mimetype": "text/x-python",
   "name": "python",
   "nbconvert_exporter": "python",
   "pygments_lexer": "ipython2",
   "version": "2.7.10"
  }
 },
 "nbformat": 4,
 "nbformat_minor": 0
}
