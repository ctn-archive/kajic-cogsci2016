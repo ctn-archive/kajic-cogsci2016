{
 "cells": [
  {
   "cell_type": "code",
   "execution_count": 1,
   "metadata": {
    "collapsed": false
   },
   "outputs": [],
   "source": [
    "import sys\n",
    "import os\n",
    "sys.path.insert(0, os.path.join(os.pardir, 'sparat'))\n",
    "\n",
    "import numpy as np\n",
    "import matplotlib.pyplot as plt\n",
    "import pandas as pd\n",
    "from scipy.optimize import fmin\n",
    "import seaborn as sns\n",
    "import statsmodels.api as sm\n",
    "\n",
    "from data_processing.rat import load_rat_items\n",
    "from data_processing.generate_association_matrix import load_assoc_mat\n",
    "from data_processing.spgen import load_pointers\n",
    "from model.stimulus import filter_valid\n",
    "from data_processing.spgen import load_pointers\n",
    "\n",
    "%matplotlib inline"
   ]
  },
  {
   "cell_type": "markdown",
   "metadata": {},
   "source": [
    "## Load experimental data"
   ]
  },
  {
   "cell_type": "code",
   "execution_count": 2,
   "metadata": {
    "collapsed": false
   },
   "outputs": [],
   "source": [
    "basedir = os.pardir\n",
    "path_file = os.path.join(basedir, 'data', 'raw', '144CompoundBowden.xlsx')\n",
    "xls = pd.ExcelFile(path_file)"
   ]
  },
  {
   "cell_type": "markdown",
   "metadata": {},
   "source": [
    "Load the excel sheet with values from the paper and sort RAT problems according to the t=2 condition:"
   ]
  },
  {
   "cell_type": "code",
   "execution_count": 3,
   "metadata": {
    "collapsed": false
   },
   "outputs": [],
   "source": [
    "df = xls.parse('RAT stimuli part1.csv', skip_footer=2)\n",
    "df.columns = [\n",
    "    'items', 'solution', '2s-%',\n",
    "    '7s-%',  '7s-t-mean', '7s-t-sd',\n",
    "    '15s-%', '15s-t-mean', '15s-t-sd',\n",
    "    '30s-%', '30s-t-mean', '30s-t-sd']\n",
    "df = df.sort_values('2s-%', ascending=False)\n",
    "df = df.set_index(np.arange(len(df)))"
   ]
  },
  {
   "cell_type": "markdown",
   "metadata": {},
   "source": [
    "## Load association data"
   ]
  },
  {
   "cell_type": "code",
   "execution_count": 4,
   "metadata": {
    "collapsed": true
   },
   "outputs": [],
   "source": [
    "def pointers2assoc(pointers, i2w, w2i):\n",
    "    return np.dot(pointers, pointers.T), i2w, w2i"
   ]
  },
  {
   "cell_type": "code",
   "execution_count": 5,
   "metadata": {
    "collapsed": true
   },
   "outputs": [],
   "source": [
    "datasets = {\n",
    "        k: load_assoc_mat(os.path.join(basedir, 'data', 'associationmatrices'), k)\n",
    "        for k in ['freeassoc_asymmetric', 'freeassoc_symmetric', 'google_symmetric']\n",
    "    }"
   ]
  },
  {
   "cell_type": "code",
   "execution_count": 6,
   "metadata": {
    "collapsed": false
   },
   "outputs": [],
   "source": [
    "datasets.update({\n",
    "        k: pointers2assoc(*load_pointers(os.path.join(basedir, 'data', 'semanticpointers'), k))\n",
    "        for k in [\n",
    "            'freeassoc_symmetric_svd_factorize_5018w_512d',\n",
    "            'google_symmetric_svd_factorize_5018w_768d'\n",
    "        ]\n",
    "    })"
   ]
  },
  {
   "cell_type": "code",
   "execution_count": 7,
   "metadata": {
    "collapsed": false
   },
   "outputs": [],
   "source": [
    "pointers, i2w, w2i = load_pointers(\n",
    "    os.path.join(basedir, 'data', 'semanticpointers'),\n",
    "    'freeassoc_asymmetric_randomize_orthonormal_5018w_5120d')\n",
    "assoc = datasets['freeassoc_asymmetric'][0]\n",
    "pointers_sq = np.dot(pointers, pointers.T)\n",
    "datasets['neural'] = (np.dot(pointers_sq, np.dot(assoc, pointers_sq)), i2w, w2i)"
   ]
  },
  {
   "cell_type": "code",
   "execution_count": 8,
   "metadata": {
    "collapsed": true
   },
   "outputs": [],
   "source": [
    "def solve_p(row, assoc, i2w, w2i, ws=(1., 1., 1.)):\n",
    "    '''\n",
    "    Compute probabilities for each row based on associations and store the result in col_title.\n",
    "    '''\n",
    "    assert len(ws) == 3\n",
    "    beta = ws[-1]\n",
    "    alphas = (1., ws[0], ws[1])\n",
    "    \n",
    "    cues = row['items'].upper().split('/')\n",
    "    target = row['solution'].upper()\n",
    "    \n",
    "    if not all(w in i2w for w in cues+[target]):\n",
    "        return np.nan\n",
    "    else:\n",
    "        strengths = np.sum([alphas[i]*assoc[w2i[cue], :] for i, cue in enumerate(cues)], axis=0)\n",
    "        for cue in cues:\n",
    "            strengths[w2i[cue]] = 0.\n",
    "        normed = strengths / np.sum(strengths)\n",
    "        return beta * 100 * normed[w2i[target]]"
   ]
  },
  {
   "cell_type": "code",
   "execution_count": 9,
   "metadata": {
    "collapsed": false
   },
   "outputs": [],
   "source": [
    "def model(params, assoc, i2w, w2i):\n",
    "    x = df.apply(solve_p, args=(assoc, i2w, w2i, params), axis=1).dropna()\n",
    "    y = df.loc[x.index]\n",
    "    return np.sqrt(np.sum(np.square(x - y['2s-%'])))"
   ]
  },
  {
   "cell_type": "code",
   "execution_count": 10,
   "metadata": {
    "collapsed": false
   },
   "outputs": [
    {
     "name": "stdout",
     "output_type": "stream",
     "text": [
      "Optimization terminated successfully.\n",
      "         Current function value: 79.912015\n",
      "         Iterations: 74\n",
      "         Function evaluations: 137\n",
      "Optimization terminated successfully.\n",
      "         Current function value: 79.912015\n",
      "         Iterations: 74\n",
      "         Function evaluations: 137\n",
      "Optimization terminated successfully.\n",
      "         Current function value: 109.418450\n",
      "         Iterations: 133\n",
      "         Function evaluations: 242\n",
      "Optimization terminated successfully.\n",
      "         Current function value: 80.122523\n",
      "         Iterations: 129\n",
      "         Function evaluations: 233\n",
      "Optimization terminated successfully.\n",
      "         Current function value: 82.733698\n",
      "         Iterations: 89\n",
      "         Function evaluations: 164\n",
      "Optimization terminated successfully.\n",
      "         Current function value: 103.383995\n",
      "         Iterations: 125\n",
      "         Function evaluations: 220\n"
     ]
    }
   ],
   "source": [
    "fits = {\n",
    "        k: fmin(model, (1., 1., 1.), assoc)\n",
    "        for k, assoc in datasets.items()\n",
    "    }"
   ]
  },
  {
   "cell_type": "code",
   "execution_count": 11,
   "metadata": {
    "collapsed": false
   },
   "outputs": [
    {
     "data": {
      "text/plain": [
       "{'freeassoc_asymmetric': array([ 2.05991529,  1.19931146,  1.13050399]),\n",
       " 'freeassoc_symmetric': array([ 2.49525947,  1.63290787,  2.85911463]),\n",
       " 'freeassoc_symmetric_svd_factorize_5018w_512d': array([ 3.22113594,  1.656956  ,  7.39585901]),\n",
       " 'google_symmetric': array([ 13.4493152 ,   1.25004022,   3.54983852]),\n",
       " 'google_symmetric_svd_factorize_5018w_768d': array([ 11.8796166 ,   0.99836006,   8.23086511]),\n",
       " 'neural': array([ 2.05991529,  1.19931146,  1.13050399])}"
      ]
     },
     "execution_count": 11,
     "metadata": {},
     "output_type": "execute_result"
    }
   ],
   "source": [
    "fits"
   ]
  },
  {
   "cell_type": "code",
   "execution_count": 12,
   "metadata": {
    "collapsed": false
   },
   "outputs": [
    {
     "data": {
      "text/plain": [
       "{'freeassoc_asymmetric': 0.58193583237955693,\n",
       " 'freeassoc_symmetric': 0.57973036097046116,\n",
       " 'freeassoc_symmetric_svd_factorize_5018w_512d': 0.55189100719134621,\n",
       " 'google_symmetric': 0.30027820830522034,\n",
       " 'google_symmetric_svd_factorize_5018w_768d': 0.21620968072232394,\n",
       " 'neural': 0.58193583237956337}"
      ]
     },
     "execution_count": 12,
     "metadata": {},
     "output_type": "execute_result"
    }
   ],
   "source": [
    "def model_r(params, assoc, i2w, w2i):\n",
    "    x = df.apply(solve_p, args=(assoc, i2w, w2i, params), axis=1).dropna()\n",
    "    y = df.loc[x.index]\n",
    "    return sm.OLS(x, y['2s-%']).fit().rsquared\n",
    "\n",
    "r_values = {k: model_r(v, *datasets[k]) for k, v in fits.items()}\n",
    "r_values"
   ]
  },
  {
   "cell_type": "code",
   "execution_count": 13,
   "metadata": {
    "collapsed": false
   },
   "outputs": [],
   "source": [
    "table = r'''\n",
    "\\begin{{tabular}}{{lrrrrr}} \\toprule\n",
    "Association matrix & $\\alpha_1$ & $\\alpha_2$ & $\\alpha_3$ & $\\beta$ & $r^2$ \\\\ \\midrule\n",
    "\\fanasym{{}} & 1.0 & {fanasym} \\\\\n",
    "\\fansym{{}} & 1.0 & {fansym} \\\\\n",
    "\\ngsym{{}} & 1.0 & {ngsym4096} \\\\\n",
    "\\ngsym[768] & 1.0 & {ngsym768} \\\\\n",
    "\\bottomrule\n",
    "\\end{{tabular}}\n",
    "'''.format(\n",
    "    fanasym=' & '.join(r\"\\num{{{:.2f}}}\".format(x)  for x in list(fits['freeassoc_asymmetric']) + [r_values['freeassoc_asymmetric']]),\n",
    "    fansym=' & '.join(r\"\\num{{{:.2f}}}\".format(x) for x in list(fits['freeassoc_symmetric']) + [r_values['freeassoc_symmetric']]),\n",
    "    ngsym4096=' & '.join(r\"\\num{{{:.2f}}}\".format(x) for x in\n",
    "        list(fits['google_symmetric']) +\n",
    "        [r_values['google_symmetric']]),\n",
    "    ngsym768=' & '.join(r\"\\num{{{:.2f}}}\".format(x) for x in\n",
    "        list(fits['google_symmetric_svd_factorize_5018w_768d']) + \n",
    "        [r_values['google_symmetric_svd_factorize_5018w_768d']]))"
   ]
  },
  {
   "cell_type": "code",
   "execution_count": 14,
   "metadata": {
    "collapsed": false
   },
   "outputs": [],
   "source": [
    "with open(os.path.join(basedir, 'txt', 'cogsci-paper', 'tables', 'rvalues.tex'), 'wt') as f:\n",
    "    f.write(table)"
   ]
  },
  {
   "cell_type": "markdown",
   "metadata": {},
   "source": [
    "## Plot"
   ]
  },
  {
   "cell_type": "code",
   "execution_count": 15,
   "metadata": {
    "collapsed": true
   },
   "outputs": [],
   "source": [
    "sns.set('paper', 'ticks')\n",
    "\n",
    "column_width_pt = 243.91125\n",
    "pt2inch = 1. / 72.27\n",
    "column_width_inch = pt2inch * column_width_pt"
   ]
  },
  {
   "cell_type": "code",
   "execution_count": 16,
   "metadata": {
    "collapsed": true
   },
   "outputs": [],
   "source": [
    "p = df['2s-%'] / 100.\n",
    "n = 89\n",
    "z = 1.96\n",
    "ci = 100 * 1.96 * np.sqrt(p * (1 - p) / float(n))\n",
    "lci, uci = df['2s-%'] - ci, df['2s-%'] + ci"
   ]
  },
  {
   "cell_type": "code",
   "execution_count": 17,
   "metadata": {
    "collapsed": false
   },
   "outputs": [
    {
     "name": "stderr",
     "output_type": "stream",
     "text": [
      "/home/jgosmann/.pyenv/versions/2.7.10/lib/python2.7/site-packages/matplotlib/collections.py:590: FutureWarning: elementwise comparison failed; returning scalar instead, but in the future will perform elementwise comparison\n",
      "  if self._edgecolors == str('face'):\n"
     ]
    },
    {
     "data": {
      "image/png": "[encoded data removed]",
      "text/plain": [
       "<matplotlib.figure.Figure at 0x7f499dbc5990>"
      ]
     },
     "metadata": {},
     "output_type": "display_data"
    }
   ],
   "source": [
    "%matplotlib inline\n",
    "colors = sns.color_palette(n_colors=2)\n",
    "titles = {\n",
    "    #'freeassoc_symmetric': \"FAN symmetric\",\n",
    "    'freeassoc_asymmetric': \"FAN asymmetric\",\n",
    "    'google_symmetric': \"Google Books n-grams\",\n",
    "    #'freeassoc_symmetric_svd_factorize_5018w_512d': \"FAN symmetric 512d\",\n",
    "    #'google_symmetric_svd_factorize_5018w_4096d': \"Google Books n-grams, 4096 dimensions\"\n",
    "}\n",
    "toplot = ['freeassoc_asymmetric', 'google_symmetric']\n",
    "\n",
    "fig = plt.figure(figsize=(2 * column_width_inch, 0.8 * column_width_inch))\n",
    "\n",
    "ax = None\n",
    "for i, k in enumerate(toplot):\n",
    "    ax = fig.add_subplot(1, len(toplot), i + 1, sharex=ax)\n",
    "    ax.plot(df['2s-%'].values, c=colors[0], label='Human solution rates')\n",
    "    ax.fill_between(np.arange(len(df)), lci, uci, alpha=0.3, color=colors[0])\n",
    "    ax.scatter(np.arange(len(df)), df.apply(solve_p, args=datasets[k] + (fits[k],), axis=1), \n",
    "               linewidths=1, edgecolors=colors[1], c=(1, 1, 1, 0), marker='o',\n",
    "              label='Model prediction')\n",
    "    \n",
    "    ax.set_title(titles[k])\n",
    "    ax.set_xlabel('Problem number')\n",
    "    if i <= 0:\n",
    "        ax.set_ylabel(\"Percent solved\")\n",
    "    \n",
    "    ax.set_xlim(left=-5)\n",
    "    ax.set_ylim(bottom=-5)\n",
    "    \n",
    "plt.legend()\n",
    "sns.despine()\n",
    "fig.tight_layout()"
   ]
  },
  {
   "cell_type": "code",
   "execution_count": 18,
   "metadata": {
    "collapsed": false
   },
   "outputs": [],
   "source": [
    "fig.savefig(os.path.join(basedir, 'txt', 'cogsci-paper', 'figures', 'fit.pdf'))"
   ]
  },
  {
   "cell_type": "code",
   "execution_count": null,
   "metadata": {
    "collapsed": true
   },
   "outputs": [],
   "source": []
  }
 ],
 "metadata": {
  "kernelspec": {
   "display_name": "Python 2",
   "language": "python",
   "name": "python2"
  },
  "language_info": {
   "codemirror_mode": {
    "name": "ipython",
    "version": 2
   },
   "file_extension": ".py",
   "mimetype": "text/x-python",
   "name": "python",
   "nbconvert_exporter": "python",
   "pygments_lexer": "ipython2",
   "version": "2.7.11"
  }
 },
 "nbformat": 4,
 "nbformat_minor": 0
}
