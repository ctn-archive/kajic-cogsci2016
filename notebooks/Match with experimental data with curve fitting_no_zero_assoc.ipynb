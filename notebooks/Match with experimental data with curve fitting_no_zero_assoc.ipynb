{
 "cells": [
  {
   "cell_type": "code",
   "execution_count": 3,
   "metadata": {
    "collapsed": false
   },
   "outputs": [],
   "source": [
    "import sys\n",
    "import os\n",
    "sys.path.insert(0, os.path.join(os.pardir, 'sparat'))\n",
    "\n",
    "import numpy as np\n",
    "import matplotlib.pyplot as plt\n",
    "import pandas as pd\n",
    "from scipy.optimize import fmin\n",
    "import seaborn as sns\n",
    "import statsmodels.api as sm\n",
    "\n",
    "from data_processing.rat import load_rat_items\n",
    "from data_processing.generate_association_matrix import load_assoc_mat\n",
    "from data_processing.spgen import load_pointers\n",
    "from model.stimulus import filter_valid\n",
    "from data_processing.spgen import load_pointers\n",
    "\n",
    "%matplotlib inline"
   ]
  },
  {
   "cell_type": "markdown",
   "metadata": {},
   "source": [
    "## Load experimental data"
   ]
  },
  {
   "cell_type": "code",
   "execution_count": 4,
   "metadata": {
    "collapsed": false
   },
   "outputs": [],
   "source": [
    "basedir = os.pardir\n",
    "path_file = os.path.join(basedir, 'data', 'raw', '144CompoundBowden.xlsx')\n",
    "xls = pd.ExcelFile(path_file)"
   ]
  },
  {
   "cell_type": "markdown",
   "metadata": {},
   "source": [
    "Load the excel sheet with values from the paper and sort RAT problems according to the t=2 condition:"
   ]
  },
  {
   "cell_type": "code",
   "execution_count": 5,
   "metadata": {
    "collapsed": true
   },
   "outputs": [],
   "source": [
    "def solveable(row, assoc, i2w, w2i):\n",
    "    cues = row['items'].upper().split('/')\n",
    "    target = row['solution'].upper()\n",
    "    \n",
    "    if not all(w in i2w for w in cues+[target]):\n",
    "        return np.nan\n",
    "    else:\n",
    "        strengths = np.sum([assoc[w2i[cue], :] for i, cue in enumerate(cues)], axis=0)\n",
    "        return strengths[w2i[target]] > 0."
   ]
  },
  {
   "cell_type": "markdown",
   "metadata": {},
   "source": [
    "## Load association data"
   ]
  },
  {
   "cell_type": "code",
   "execution_count": 6,
   "metadata": {
    "collapsed": true
   },
   "outputs": [],
   "source": [
    "def pointers2assoc(pointers, i2w, w2i):\n",
    "    return np.dot(pointers, pointers.T), i2w, w2i"
   ]
  },
  {
   "cell_type": "code",
   "execution_count": 7,
   "metadata": {
    "collapsed": true
   },
   "outputs": [],
   "source": [
    "datasets = {\n",
    "        k: load_assoc_mat(os.path.join(basedir, 'data', 'associationmatrices'), k)\n",
    "        for k in ['freeassoc_asymmetric', 'freeassoc_symmetric', 'google_symmetric']\n",
    "    }"
   ]
  },
  {
   "cell_type": "code",
   "execution_count": 7,
   "metadata": {
    "collapsed": false
   },
   "outputs": [],
   "source": [
    "datasets.update({\n",
    "        k: pointers2assoc(*load_pointers(os.path.join(basedir, 'data', 'semanticpointers'), k))\n",
    "        for k in [\n",
    "            #'freeassoc_symmetric_svd_factorize_5018w_512d',\n",
    "            #'google_symmetric_svd_factorize_5018w_4096d',\n",
    "            'google_symmetric_svd_factorize_5018w_768d',\n",
    "            'google_symmetric_svd_factorize_5018w_2048d',\n",
    "            'google_symmetric_svd_factorize_5018w_4096d'\n",
    "\n",
    "        ]\n",
    "        \n",
    "    })"
   ]
  },
  {
   "cell_type": "code",
   "execution_count": 10,
   "metadata": {
    "collapsed": false
   },
   "outputs": [
    {
     "data": {
      "text/plain": [
       "['freeassoc_symmetric',\n",
       " 'freeassoc_asymmetric',\n",
       " 'google_symmetric_svd_factorize_5018w_2048d',\n",
       " 'google_symmetric_svd_factorize_5018w_768d',\n",
       " 'google_symmetric',\n",
       " 'google_symmetric_svd_factorize_5018w_4096d']"
      ]
     },
     "execution_count": 10,
     "metadata": {},
     "output_type": "execute_result"
    }
   ],
   "source": [
    "datasets.keys()"
   ]
  },
  {
   "cell_type": "code",
   "execution_count": 11,
   "metadata": {
    "collapsed": false
   },
   "outputs": [
    {
     "ename": "IOError",
     "evalue": "[Errno 2] No such file or directory: '../../data/semanticpointers/freeassoc_symmetric_randomize_5018w_512d.npy'",
     "output_type": "error",
     "traceback": [
      "\u001b[1;31m---------------------------------------------------------------------------\u001b[0m",
      "\u001b[1;31mIOError\u001b[0m                                   Traceback (most recent call last)",
      "\u001b[1;32m<ipython-input-11-a2a2063b5bfa>\u001b[0m in \u001b[0;36m<module>\u001b[1;34m()\u001b[0m\n\u001b[0;32m      1\u001b[0m pointers, i2w, w2i = load_pointers(\n\u001b[0;32m      2\u001b[0m     \u001b[0mos\u001b[0m\u001b[1;33m.\u001b[0m\u001b[0mpath\u001b[0m\u001b[1;33m.\u001b[0m\u001b[0mjoin\u001b[0m\u001b[1;33m(\u001b[0m\u001b[0mbasedir\u001b[0m\u001b[1;33m,\u001b[0m \u001b[1;34m'data'\u001b[0m\u001b[1;33m,\u001b[0m \u001b[1;34m'semanticpointers'\u001b[0m\u001b[1;33m)\u001b[0m\u001b[1;33m,\u001b[0m\u001b[1;33m\u001b[0m\u001b[0m\n\u001b[1;32m----> 3\u001b[1;33m     'freeassoc_symmetric_randomize_5018w_512d')\n\u001b[0m\u001b[0;32m      4\u001b[0m \u001b[0massoc\u001b[0m \u001b[1;33m=\u001b[0m \u001b[0mdatasets\u001b[0m\u001b[1;33m[\u001b[0m\u001b[1;34m'freeassoc_asymmetric'\u001b[0m\u001b[1;33m]\u001b[0m\u001b[1;33m[\u001b[0m\u001b[1;36m0\u001b[0m\u001b[1;33m]\u001b[0m\u001b[1;33m\u001b[0m\u001b[0m\n\u001b[0;32m      5\u001b[0m \u001b[0mpointers_sq\u001b[0m \u001b[1;33m=\u001b[0m \u001b[0mnp\u001b[0m\u001b[1;33m.\u001b[0m\u001b[0mdot\u001b[0m\u001b[1;33m(\u001b[0m\u001b[0mpointers\u001b[0m\u001b[1;33m,\u001b[0m \u001b[0mpointers\u001b[0m\u001b[1;33m.\u001b[0m\u001b[0mT\u001b[0m\u001b[1;33m)\u001b[0m\u001b[1;33m\u001b[0m\u001b[0m\n",
      "\u001b[1;32m/home/ivana/phd/workspace/spa_rat/src/data_processing/spgen.pyc\u001b[0m in \u001b[0;36mload_pointers\u001b[1;34m(path, name)\u001b[0m\n\u001b[0;32m     65\u001b[0m     \u001b[0mmap_file\u001b[0m \u001b[1;33m=\u001b[0m \u001b[0mos\u001b[0m\u001b[1;33m.\u001b[0m\u001b[0mpath\u001b[0m\u001b[1;33m.\u001b[0m\u001b[0mjoin\u001b[0m\u001b[1;33m(\u001b[0m\u001b[0mpath\u001b[0m\u001b[1;33m,\u001b[0m \u001b[0mname\u001b[0m \u001b[1;33m+\u001b[0m \u001b[1;34m'.pkl'\u001b[0m\u001b[1;33m)\u001b[0m\u001b[1;33m\u001b[0m\u001b[0m\n\u001b[0;32m     66\u001b[0m \u001b[1;33m\u001b[0m\u001b[0m\n\u001b[1;32m---> 67\u001b[1;33m     \u001b[0mpointers\u001b[0m \u001b[1;33m=\u001b[0m \u001b[0mnp\u001b[0m\u001b[1;33m.\u001b[0m\u001b[0mload\u001b[0m\u001b[1;33m(\u001b[0m\u001b[0mmat_file\u001b[0m\u001b[1;33m)\u001b[0m\u001b[1;33m\u001b[0m\u001b[0m\n\u001b[0m\u001b[0;32m     68\u001b[0m     \u001b[1;32mwith\u001b[0m \u001b[0mopen\u001b[0m\u001b[1;33m(\u001b[0m\u001b[0mmap_file\u001b[0m\u001b[1;33m,\u001b[0m \u001b[1;34m'rb'\u001b[0m\u001b[1;33m)\u001b[0m \u001b[1;32mas\u001b[0m \u001b[0mf\u001b[0m\u001b[1;33m:\u001b[0m\u001b[1;33m\u001b[0m\u001b[0m\n\u001b[0;32m     69\u001b[0m         \u001b[0mid2word\u001b[0m \u001b[1;33m=\u001b[0m \u001b[0mpickle\u001b[0m\u001b[1;33m.\u001b[0m\u001b[0mload\u001b[0m\u001b[1;33m(\u001b[0m\u001b[0mf\u001b[0m\u001b[1;33m)\u001b[0m\u001b[1;33m\u001b[0m\u001b[0m\n",
      "\u001b[1;32m/home/ivana/.virtualenvs/nengo-dev/local/lib/python2.7/site-packages/numpy/lib/npyio.pyc\u001b[0m in \u001b[0;36mload\u001b[1;34m(file, mmap_mode, allow_pickle, fix_imports, encoding)\u001b[0m\n\u001b[0;32m    360\u001b[0m     \u001b[0mown_fid\u001b[0m \u001b[1;33m=\u001b[0m \u001b[0mFalse\u001b[0m\u001b[1;33m\u001b[0m\u001b[0m\n\u001b[0;32m    361\u001b[0m     \u001b[1;32mif\u001b[0m \u001b[0misinstance\u001b[0m\u001b[1;33m(\u001b[0m\u001b[0mfile\u001b[0m\u001b[1;33m,\u001b[0m \u001b[0mbasestring\u001b[0m\u001b[1;33m)\u001b[0m\u001b[1;33m:\u001b[0m\u001b[1;33m\u001b[0m\u001b[0m\n\u001b[1;32m--> 362\u001b[1;33m         \u001b[0mfid\u001b[0m \u001b[1;33m=\u001b[0m \u001b[0mopen\u001b[0m\u001b[1;33m(\u001b[0m\u001b[0mfile\u001b[0m\u001b[1;33m,\u001b[0m \u001b[1;34m\"rb\"\u001b[0m\u001b[1;33m)\u001b[0m\u001b[1;33m\u001b[0m\u001b[0m\n\u001b[0m\u001b[0;32m    363\u001b[0m         \u001b[0mown_fid\u001b[0m \u001b[1;33m=\u001b[0m \u001b[0mTrue\u001b[0m\u001b[1;33m\u001b[0m\u001b[0m\n\u001b[0;32m    364\u001b[0m     \u001b[1;32melse\u001b[0m\u001b[1;33m:\u001b[0m\u001b[1;33m\u001b[0m\u001b[0m\n",
      "\u001b[1;31mIOError\u001b[0m: [Errno 2] No such file or directory: '../../data/semanticpointers/freeassoc_symmetric_randomize_5018w_512d.npy'"
     ]
    }
   ],
   "source": [
    "pointers, i2w, w2i = load_pointers(\n",
    "    os.path.join(basedir, 'data', 'semanticpointers'),\n",
    "    'freeassoc_symmetric_randomize_5018w_512d')\n",
    "assoc = datasets['freeassoc_asymmetric'][0]\n",
    "pointers_sq = np.dot(pointers, pointers.T)\n",
    "datasets['neural'] = (np.dot(pointers_sq, np.dot(assoc, pointers_sq)), i2w, w2i)"
   ]
  },
  {
   "cell_type": "code",
   "execution_count": 12,
   "metadata": {
    "collapsed": false
   },
   "outputs": [],
   "source": [
    "df = xls.parse('RAT stimuli part1.csv', skip_footer=2)\n",
    "df.columns = [\n",
    "    'items', 'solution', '2s-%',\n",
    "    '7s-%',  '7s-t-mean', '7s-t-sd',\n",
    "    '15s-%', '15s-t-mean', '15s-t-sd',\n",
    "    '30s-%', '30s-t-mean', '30s-t-sd']\n",
    "df = df.sort_values('2s-%', ascending=False)\n",
    "df = df.set_index(np.arange(len(df)))"
   ]
  },
  {
   "cell_type": "code",
   "execution_count": 13,
   "metadata": {
    "collapsed": false
   },
   "outputs": [],
   "source": [
    "assoc, i2w, w2i = load_assoc_mat(os.path.join(basedir, 'data', 'associationmatrices'), 'freeassoc_asymmetric')\n",
    "\n",
    "assoc = datasets['freeassoc_asymmetric'][0]"
   ]
  },
  {
   "cell_type": "code",
   "execution_count": 15,
   "metadata": {
    "collapsed": true
   },
   "outputs": [],
   "source": [
    "solvable_problems = df.apply(solveable, args=(assoc, i2w, w2i), axis=1)"
   ]
  },
  {
   "cell_type": "code",
   "execution_count": 11,
   "metadata": {
    "collapsed": false
   },
   "outputs": [
    {
     "name": "stdout",
     "output_type": "stream",
     "text": [
      "('Unsolvable:', 37)\n"
     ]
    }
   ],
   "source": [
    "print 'Unsolvable:', len(solvable_problems.dropna()) - solvable_problems.sum()"
   ]
  },
  {
   "cell_type": "code",
   "execution_count": 12,
   "metadata": {
    "collapsed": false
   },
   "outputs": [],
   "source": [
    "df=df.loc[solvable_problems.fillna(False)]"
   ]
  },
  {
   "cell_type": "code",
   "execution_count": 13,
   "metadata": {
    "collapsed": true
   },
   "outputs": [],
   "source": [
    "def solve_p(row, assoc, i2w, w2i, ws=(1., 1., 1.)):\n",
    "    '''\n",
    "    Compute probabilities for each row based on associations and store the result in col_title.\n",
    "    '''\n",
    "    assert len(ws) == 3\n",
    "    beta = ws[-1]\n",
    "    alphas = (1., ws[0], ws[1])\n",
    "    \n",
    "    cues = row['items'].upper().split('/')\n",
    "    target = row['solution'].upper()\n",
    "    \n",
    "    if not all(w in i2w for w in cues+[target]):\n",
    "        return np.nan\n",
    "    else:\n",
    "        strengths = np.sum([alphas[i]*assoc[w2i[cue], :] for i, cue in enumerate(cues)], axis=0)\n",
    "        for cue in cues:\n",
    "            strengths[w2i[cue]] = 0.\n",
    "        normed = strengths / np.sum(strengths)\n",
    "        return beta * 100 * normed[w2i[target]]"
   ]
  },
  {
   "cell_type": "code",
   "execution_count": 14,
   "metadata": {
    "collapsed": false
   },
   "outputs": [],
   "source": [
    "def model(params, assoc, i2w, w2i):\n",
    "    x = df.apply(solve_p, args=(assoc, i2w, w2i, params), axis=1).dropna()\n",
    "    y = df.loc[x.index]\n",
    "    return np.sqrt(np.sum(np.square(x - y['2s-%'])))"
   ]
  },
  {
   "cell_type": "code",
   "execution_count": 15,
   "metadata": {
    "collapsed": false
   },
   "outputs": [
    {
     "name": "stdout",
     "output_type": "stream",
     "text": [
      "Optimization terminated successfully.\n",
      "         Current function value: 75.738291\n",
      "         Iterations: 135\n",
      "         Function evaluations: 240\n",
      "Optimization terminated successfully.\n",
      "         Current function value: 73.006371\n",
      "         Iterations: 74\n",
      "         Function evaluations: 137\n",
      "Optimization terminated successfully.\n",
      "         Current function value: 97.767595\n",
      "         Iterations: 216\n",
      "         Function evaluations: 388\n",
      "Optimization terminated successfully.\n",
      "         Current function value: 103.993498\n",
      "         Iterations: 132\n",
      "         Function evaluations: 242\n",
      "Optimization terminated successfully.\n",
      "         Current function value: 98.517362\n",
      "         Iterations: 130\n",
      "         Function evaluations: 238\n",
      "Optimization terminated successfully.\n",
      "         Current function value: 99.885801\n",
      "         Iterations: 126\n",
      "         Function evaluations: 228\n"
     ]
    }
   ],
   "source": [
    "fits = {\n",
    "        k: fmin(model, (1., 1., 1.), assoc)\n",
    "        for k, assoc in datasets.items()\n",
    "    }"
   ]
  },
  {
   "cell_type": "code",
   "execution_count": 16,
   "metadata": {
    "collapsed": false
   },
   "outputs": [
    {
     "data": {
      "text/plain": [
       "{'freeassoc_asymmetric': array([ 2.05991529,  1.19931146,  1.13050399]),\n",
       " 'freeassoc_symmetric': array([ 2.62286925,  1.62842617,  2.81837603]),\n",
       " 'google_symmetric': array([ 14.73904707,  -0.17456366,   3.45078944]),\n",
       " 'google_symmetric_svd_factorize_5018w_2048d': array([ 21.68219878,  -0.61678953,   5.63082204]),\n",
       " 'google_symmetric_svd_factorize_5018w_4096d': array([ 5.92667441, -1.24417608,  3.23250587]),\n",
       " 'google_symmetric_svd_factorize_5018w_768d': array([ 17.41504114,   0.96398511,   8.64102831])}"
      ]
     },
     "execution_count": 44,
     "metadata": {},
     "output_type": "execute_result"
    }
   ],
   "source": [
    "fits"
   ]
  },
  {
   "cell_type": "code",
   "execution_count": 17,
   "metadata": {
    "collapsed": false
   },
   "outputs": [
    {
     "data": {
      "text/plain": [
       "{'freeassoc_asymmetric': 0.62515435963131949,\n",
       " 'freeassoc_symmetric': 0.59657579354696333,\n",
       " 'google_symmetric': 0.31741538147222503,\n",
       " 'google_symmetric_svd_factorize_5018w_2048d': 0.3277654771878884,\n",
       " 'google_symmetric_svd_factorize_5018w_4096d': 0.29832103774255148,\n",
       " 'google_symmetric_svd_factorize_5018w_768d': 0.23942277012624935}"
      ]
     },
     "execution_count": 45,
     "metadata": {},
     "output_type": "execute_result"
    }
   ],
   "source": [
    "def model_r(params, assoc, i2w, w2i):\n",
    "    x = df.apply(solve_p, args=(assoc, i2w, w2i, params), axis=1).dropna()\n",
    "    y = df.loc[x.index]\n",
    "    return sm.OLS(x, y['2s-%']).fit().rsquared\n",
    "\n",
    "r_values = {k: model_r(v, *datasets[k]) for k, v in fits.items()}\n",
    "r_values"
   ]
  },
  {
   "cell_type": "code",
   "execution_count": null,
   "metadata": {
    "collapsed": true
   },
   "outputs": [],
   "source": []
  }
 ],
 "metadata": {
  "kernelspec": {
   "display_name": "Python 2",
   "language": "python",
   "name": "python2"
  },
  "language_info": {
   "codemirror_mode": {
    "name": "ipython",
    "version": 2
   },
   "file_extension": ".py",
   "mimetype": "text/x-python",
   "name": "python",
   "nbconvert_exporter": "python",
   "pygments_lexer": "ipython2",
   "version": "2.7.10"
  }
 },
 "nbformat": 4,
 "nbformat_minor": 0
}
