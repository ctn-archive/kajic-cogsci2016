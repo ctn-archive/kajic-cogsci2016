{
 "cells": [
  {
   "cell_type": "code",
   "execution_count": 3,
   "metadata": {
    "collapsed": false
   },
   "outputs": [],
   "source": [
    "import sys\n",
    "import os\n",
    "sys.path.insert(0, os.path.join(os.pardir, 'sparat'))\n",
    "\n",
    "import numpy as np\n",
    "import matplotlib.pyplot as plt\n",
    "import pandas as pd\n",
    "from scipy.optimize import fmin\n",
    "import seaborn as sns\n",
    "import statsmodels.api as sm\n",
    "\n",
    "from data_processing.rat import load_rat_items\n",
    "from data_processing.generate_association_matrix import load_assoc_mat\n",
    "from data_processing.spgen import load_pointers\n",
    "from model.stimulus import filter_valid\n",
    "from data_processing.spgen import load_pointers\n",
    "\n",
    "%matplotlib inline"
   ]
  },
  {
   "cell_type": "markdown",
   "metadata": {},
   "source": [
    "## Load experimental data"
   ]
  },
  {
   "cell_type": "code",
   "execution_count": 4,
   "metadata": {
    "collapsed": false
   },
   "outputs": [],
   "source": [
    "basedir = os.pardir\n",
    "path_file = os.path.join(basedir, 'data', 'raw', '144CompoundBowden.xlsx')\n",
    "xls = pd.ExcelFile(path_file)"
   ]
  },
  {
   "cell_type": "markdown",
   "metadata": {},
   "source": [
    "Load the excel sheet with values from the paper and sort RAT problems according to the t=2 condition:"
   ]
  },
  {
   "cell_type": "code",
   "execution_count": 5,
   "metadata": {
    "collapsed": true
   },
   "outputs": [],
   "source": [
    "def solveable(row, assoc, i2w, w2i):\n",
    "    cues = row['items'].upper().split('/')\n",
    "    target = row['solution'].upper()\n",
    "    \n",
    "    if not all(w in i2w for w in cues+[target]):\n",
    "        return np.nan\n",
    "    else:\n",
    "        strengths = np.sum([assoc[w2i[cue], :] for i, cue in enumerate(cues)], axis=0)\n",
    "        return strengths[w2i[target]] > 0."
   ]
  },
  {
   "cell_type": "markdown",
   "metadata": {},
   "source": [
    "## Load association data"
   ]
  },
  {
   "cell_type": "code",
   "execution_count": 6,
   "metadata": {
    "collapsed": true
   },
   "outputs": [],
   "source": [
    "def pointers2assoc(pointers, i2w, w2i):\n",
    "    return np.dot(pointers, pointers.T), i2w, w2i"
   ]
  },
  {
   "cell_type": "code",
   "execution_count": 7,
   "metadata": {
    "collapsed": true
   },
   "outputs": [],
   "source": [
    "datasets = {\n",
    "        k: load_assoc_mat(os.path.join(basedir, 'data', 'associationmatrices'), k)\n",
    "        for k in ['freeassoc_asymmetric']\n",
    "    }"
   ]
  },
  {
   "cell_type": "code",
   "execution_count": 8,
   "metadata": {
    "collapsed": false
   },
   "outputs": [],
   "source": [
    "df = xls.parse('RAT stimuli part1.csv', skip_footer=2)\n",
    "df.columns = [\n",
    "    'items', 'solution', '2s-%',\n",
    "    '7s-%',  '7s-t-mean', '7s-t-sd',\n",
    "    '15s-%', '15s-t-mean', '15s-t-sd',\n",
    "    '30s-%', '30s-t-mean', '30s-t-sd']\n",
    "df = df.sort_values('2s-%', ascending=False)\n",
    "df = df.set_index(np.arange(len(df)))"
   ]
  },
  {
   "cell_type": "code",
   "execution_count": 9,
   "metadata": {
    "collapsed": false
   },
   "outputs": [],
   "source": [
    "assoc, i2w, w2i = datasets['freeassoc_asymmetric']"
   ]
  },
  {
   "cell_type": "code",
   "execution_count": 10,
   "metadata": {
    "collapsed": true
   },
   "outputs": [],
   "source": [
    "solvable_problems = df.apply(solveable, args=(assoc, i2w, w2i), axis=1)"
   ]
  },
  {
   "cell_type": "code",
   "execution_count": 11,
   "metadata": {
    "collapsed": false
   },
   "outputs": [
    {
     "name": "stdout",
     "output_type": "stream",
     "text": [
      "Unsolvable: 37\n"
     ]
    }
   ],
   "source": [
    "print 'Unsolvable:', len(solvable_problems.dropna()) - solvable_problems.sum()"
   ]
  },
  {
   "cell_type": "code",
   "execution_count": 12,
   "metadata": {
    "collapsed": false
   },
   "outputs": [],
   "source": [
    "df=df.loc[solvable_problems.fillna(False)]"
   ]
  },
  {
   "cell_type": "code",
   "execution_count": 13,
   "metadata": {
    "collapsed": true
   },
   "outputs": [],
   "source": [
    "def solve_p(row, assoc, i2w, w2i, ws=(1., 1., 1.)):\n",
    "    '''\n",
    "    Compute probabilities for each row based on associations and store the result in col_title.\n",
    "    '''\n",
    "    assert len(ws) == 3\n",
    "    beta = ws[-1]\n",
    "    alphas = (1., ws[0], ws[1])\n",
    "    \n",
    "    cues = row['items'].upper().split('/')\n",
    "    target = row['solution'].upper()\n",
    "    \n",
    "    if not all(w in i2w for w in cues+[target]):\n",
    "        return np.nan\n",
    "    else:\n",
    "        strengths = np.sum([alphas[i]*assoc[w2i[cue], :] for i, cue in enumerate(cues)], axis=0)\n",
    "        for cue in cues:\n",
    "            strengths[w2i[cue]] = 0.\n",
    "        normed = strengths / np.sum(strengths)\n",
    "        return beta * 100 * normed[w2i[target]]"
   ]
  },
  {
   "cell_type": "code",
   "execution_count": 14,
   "metadata": {
    "collapsed": false
   },
   "outputs": [],
   "source": [
    "def model(params, assoc, i2w, w2i):\n",
    "    x = df.apply(solve_p, args=(assoc, i2w, w2i, params), axis=1).dropna()\n",
    "    y = df.loc[x.index]\n",
    "    return np.sqrt(np.sum(np.square(x - y['2s-%'])))"
   ]
  },
  {
   "cell_type": "code",
   "execution_count": 15,
   "metadata": {
    "collapsed": false
   },
   "outputs": [
    {
     "name": "stdout",
     "output_type": "stream",
     "text": [
      "Optimization terminated successfully.\n",
      "         Current function value: 73.006371\n",
      "         Iterations: 74\n",
      "         Function evaluations: 137\n"
     ]
    }
   ],
   "source": [
    "fits = {\n",
    "        k: fmin(model, (1., 1., 1.), assoc)\n",
    "        for k, assoc in datasets.items()\n",
    "    }"
   ]
  },
  {
   "cell_type": "code",
   "execution_count": 16,
   "metadata": {
    "collapsed": false
   },
   "outputs": [
    {
     "data": {
      "text/plain": [
       "{'freeassoc_asymmetric': array([ 2.05991529,  1.19931146,  1.13050399])}"
      ]
     },
     "execution_count": 16,
     "metadata": {},
     "output_type": "execute_result"
    }
   ],
   "source": [
    "fits"
   ]
  },
  {
   "cell_type": "code",
   "execution_count": 17,
   "metadata": {
    "collapsed": false
   },
   "outputs": [
    {
     "data": {
      "text/plain": [
       "{'freeassoc_asymmetric': 0.62515435963131949}"
      ]
     },
     "execution_count": 17,
     "metadata": {},
     "output_type": "execute_result"
    }
   ],
   "source": [
    "def model_r(params, assoc, i2w, w2i):\n",
    "    x = df.apply(solve_p, args=(assoc, i2w, w2i, params), axis=1).dropna()\n",
    "    y = df.loc[x.index]\n",
    "    return sm.OLS(x, y['2s-%']).fit().rsquared\n",
    "\n",
    "r_values = {k: model_r(v, *datasets[k]) for k, v in fits.items()}\n",
    "r_values"
   ]
  },
  {
   "cell_type": "code",
   "execution_count": null,
   "metadata": {
    "collapsed": true
   },
   "outputs": [],
   "source": []
  }
 ],
 "metadata": {
  "kernelspec": {
   "display_name": "Python 2",
   "language": "python",
   "name": "python2"
  },
  "language_info": {
   "codemirror_mode": {
    "name": "ipython",
    "version": 2
   },
   "file_extension": ".py",
   "mimetype": "text/x-python",
   "name": "python",
   "nbconvert_exporter": "python",
   "pygments_lexer": "ipython2",
   "version": "2.7.10"
  }
 },
 "nbformat": 4,
 "nbformat_minor": 0
}
