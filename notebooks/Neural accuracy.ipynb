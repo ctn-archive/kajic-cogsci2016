{
 "cells": [
  {
   "cell_type": "code",
   "execution_count": 1,
   "metadata": {
    "collapsed": false
   },
   "outputs": [],
   "source": [
    "import os\n",
    "import os.path\n",
    "import sys\n",
    "sys.path.insert(0, os.path.join(os.pardir, 'sparat'))\n",
    "\n",
    "import matplotlib.pyplot as plt\n",
    "import numpy as np\n",
    "import psyrun.io\n",
    "import seaborn as sns\n",
    "\n",
    "from data_processing.rat import load_rat_items\n",
    "from data_processing.generate_association_matrix import load_assoc_mat\n",
    "\n",
    "%matplotlib inline"
   ]
  },
  {
   "cell_type": "code",
   "execution_count": 2,
   "metadata": {
    "collapsed": false
   },
   "outputs": [
    {
     "data": {
      "text/plain": [
       "['m_sim', 'seed', 'neurons_per_dimension']"
      ]
     },
     "execution_count": 2,
     "metadata": {},
     "output_type": "execute_result"
    }
   ],
   "source": [
    "data = psyrun.io.load_dict_h5(os.path.join(os.pardir, 'data', 'neural-accuracy.h5'))\n",
    "data.keys()"
   ]
  },
  {
   "cell_type": "code",
   "execution_count": 3,
   "metadata": {
    "collapsed": false
   },
   "outputs": [],
   "source": [
    "assoc, i2w, w2i = load_assoc_mat(os.path.join(\n",
    "    os.pardir, 'data', 'associationmatrices'), 'freeassoc_asymmetric')"
   ]
  },
  {
   "cell_type": "code",
   "execution_count": 4,
   "metadata": {
    "collapsed": false
   },
   "outputs": [],
   "source": [
    "rat_items = load_rat_items(os.path.join(os.pardir, 'data', 'rat', 'example.txt'))"
   ]
  },
  {
   "cell_type": "code",
   "execution_count": 5,
   "metadata": {
    "collapsed": false
   },
   "outputs": [],
   "source": [
    "ground_truth = np.array([np.sum([assoc[w2i[c]] for c in item.cues], axis=0) for item in rat_items])"
   ]
  },
  {
   "cell_type": "code",
   "execution_count": 6,
   "metadata": {
    "collapsed": false
   },
   "outputs": [],
   "source": [
    "rmse = np.sqrt(np.mean(np.square(data['m_sim'] - ground_truth[None, : , :]), axis=(1, 2)))"
   ]
  },
  {
   "cell_type": "code",
   "execution_count": 7,
   "metadata": {
    "collapsed": false
   },
   "outputs": [],
   "source": [
    "sorting = np.argsort(data['neurons_per_dimension'])"
   ]
  },
  {
   "cell_type": "code",
   "execution_count": 8,
   "metadata": {
    "collapsed": false
   },
   "outputs": [
    {
     "name": "stdout",
     "output_type": "stream",
     "text": [
      "[25 30 50 45 35 40 15 10 20  5]\n",
      "[ 0.02625303  0.02620695  0.0260781   0.02609721  0.02616158  0.02612731\n",
      "  0.0264114   0.02658955  0.02633741  0.02676967]\n"
     ]
    }
   ],
   "source": [
    "print(data['neurons_per_dimension'])\n",
    "print(rmse)\n"
   ]
  },
  {
   "cell_type": "code",
   "execution_count": 9,
   "metadata": {
    "collapsed": false
   },
   "outputs": [],
   "source": [
    "sns.set('paper', 'ticks')\n",
    "\n",
    "column_width_pt = 243.91125\n",
    "pt2inch = 1. / 72.27\n",
    "column_width_inch = pt2inch * column_width_pt"
   ]
  },
  {
   "cell_type": "code",
   "execution_count": 10,
   "metadata": {
    "collapsed": false
   },
   "outputs": [
    {
     "data": {
      "image/png": "[encoded data removed]",
      "text/plain": [
       "<matplotlib.figure.Figure at 0x7fa3b43ff450>"
      ]
     },
     "metadata": {},
     "output_type": "display_data"
    }
   ],
   "source": [
    "fig = plt.figure(figsize=(column_width_inch, 0.8 * column_width_inch))\n",
    "ax = fig.add_subplot(1, 1, 1)\n",
    "ax.plot(data['neurons_per_dimension'][sorting] * 5018 / 1000, rmse[sorting])\n",
    "ax.set_xlabel(\"Thousand neurons per ensemble\")\n",
    "ax.set_ylabel(\"RMSE\")\n",
    "\n",
    "sns.despine(offset=5)\n",
    "fig.tight_layout()"
   ]
  },
  {
   "cell_type": "code",
   "execution_count": 11,
   "metadata": {
    "collapsed": false
   },
   "outputs": [],
   "source": [
    "fig.savefig(os.path.join(os.pardir, 'txt', 'cogsci-paper', 'figures', 'accuracy.pdf'))"
   ]
  },
  {
   "cell_type": "code",
   "execution_count": null,
   "metadata": {
    "collapsed": true
   },
   "outputs": [],
   "source": []
  }
 ],
 "metadata": {
  "kernelspec": {
   "display_name": "Python 2",
   "language": "python",
   "name": "python2"
  },
  "language_info": {
   "codemirror_mode": {
    "name": "ipython",
    "version": 2
   },
   "file_extension": ".py",
   "mimetype": "text/x-python",
   "name": "python",
   "nbconvert_exporter": "python",
   "pygments_lexer": "ipython2",
   "version": "2.7.10"
  }
 },
 "nbformat": 4,
 "nbformat_minor": 0
}
