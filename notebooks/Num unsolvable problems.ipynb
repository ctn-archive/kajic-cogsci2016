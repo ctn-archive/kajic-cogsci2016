{
 "cells": [
  {
   "cell_type": "code",
   "execution_count": 1,
   "metadata": {
    "collapsed": false
   },
   "outputs": [],
   "source": [
    "import sys\n",
    "import os\n",
    "sys.path.insert(0, os.path.join(os.pardir, os.pardir, 'src'))\n",
    "\n",
    "import numpy as np\n",
    "import matplotlib.pyplot as plt\n",
    "import pandas as pd\n",
    "from scipy.optimize import fmin\n",
    "import seaborn as sns\n",
    "import statsmodels.api as sm\n",
    "\n",
    "from data_processing.rat import load_rat_items\n",
    "from data_processing.generate_association_matrix import load_assoc_mat\n",
    "from data_processing.spgen import load_pointers\n",
    "from model.stimulus import filter_valid\n",
    "from data_processing.spgen import load_pointers\n",
    "\n",
    "%matplotlib inline"
   ]
  },
  {
   "cell_type": "markdown",
   "metadata": {},
   "source": [
    "## Load experimental data"
   ]
  },
  {
   "cell_type": "code",
   "execution_count": 2,
   "metadata": {
    "collapsed": false
   },
   "outputs": [],
   "source": [
    "basedir = os.path.join(os.pardir, os.pardir)\n",
    "path_file = os.path.join(basedir, 'data', 'raw', '144CompoundBowden.xlsx')\n",
    "xls = pd.ExcelFile(path_file)"
   ]
  },
  {
   "cell_type": "markdown",
   "metadata": {},
   "source": [
    "Load the excel sheet with values from the paper and sort RAT problems according to the t=2 condition:"
   ]
  },
  {
   "cell_type": "code",
   "execution_count": 3,
   "metadata": {
    "collapsed": false
   },
   "outputs": [],
   "source": [
    "df = xls.parse('RAT stimuli part1.csv', skip_footer=2)\n",
    "df.columns = [\n",
    "    'items', 'solution', '2s-%',\n",
    "    '7s-%',  '7s-t-mean', '7s-t-sd',\n",
    "    '15s-%', '15s-t-mean', '15s-t-sd',\n",
    "    '30s-%', '30s-t-mean', '30s-t-sd']\n",
    "df = df.sort_values('2s-%', ascending=False)\n",
    "df = df.set_index(np.arange(len(df)))"
   ]
  },
  {
   "cell_type": "markdown",
   "metadata": {},
   "source": [
    "## Load association data"
   ]
  },
  {
   "cell_type": "code",
   "execution_count": 4,
   "metadata": {
    "collapsed": false
   },
   "outputs": [],
   "source": [
    "assoc, i2w, w2i = load_assoc_mat(os.path.join(basedir, 'data', 'associationmatrices'), 'freeassoc_asymmetric')"
   ]
  },
  {
   "cell_type": "code",
   "execution_count": 6,
   "metadata": {
    "collapsed": true
   },
   "outputs": [],
   "source": [
    "pointers, i2w, w2i = load_pointers(\n",
    "    os.path.join(basedir, 'data', 'semanticpointers'),\n",
    "    'freeassoc_asymmetric_randomize_5018w_512d')\n",
    "assoc = datasets['freeassoc_asymmetric'][0]\n",
    "pointers_sq = np.dot(pointers, pointers.T)\n",
    "datasets['neural'] = (np.dot(pointers_sq, np.dot(assoc, pointers_sq)), i2w, w2i)"
   ]
  },
  {
   "cell_type": "code",
   "execution_count": 13,
   "metadata": {
    "collapsed": true
   },
   "outputs": [],
   "source": [
    "def solveable(row, assoc, i2w, w2i):\n",
    "    cues = row['items'].upper().split('/')\n",
    "    target = row['solution'].upper()\n",
    "    \n",
    "    if not all(w in i2w for w in cues+[target]):\n",
    "        return np.nan\n",
    "    else:\n",
    "        strengths = np.sum([assoc[w2i[cue], :] for i, cue in enumerate(cues)], axis=0)\n",
    "        return strengths[w2i[target]] > 0."
   ]
  },
  {
   "cell_type": "code",
   "execution_count": 15,
   "metadata": {
    "collapsed": false
   },
   "outputs": [],
   "source": [
    "solvable_problems = df.apply(solveable, args=(assoc, i2w, w2i), axis=1)"
   ]
  },
  {
   "cell_type": "code",
   "execution_count": 16,
   "metadata": {
    "collapsed": false
   },
   "outputs": [
    {
     "data": {
      "text/plain": [
       "37"
      ]
     },
     "execution_count": 16,
     "metadata": {},
     "output_type": "execute_result"
    }
   ],
   "source": [
    "len(solvable_problems.dropna()) - solvable_problems.sum()"
   ]
  },
  {
   "cell_type": "code",
   "execution_count": null,
   "metadata": {
    "collapsed": true
   },
   "outputs": [],
   "source": []
  }
 ],
 "metadata": {
  "kernelspec": {
   "display_name": "Python 2",
   "language": "python",
   "name": "python2"
  },
  "language_info": {
   "codemirror_mode": {
    "name": "ipython",
    "version": 2
   },
   "file_extension": ".py",
   "mimetype": "text/x-python",
   "name": "python",
   "nbconvert_exporter": "python",
   "pygments_lexer": "ipython2",
   "version": "2.7.10"
  }
 },
 "nbformat": 4,
 "nbformat_minor": 0
}
