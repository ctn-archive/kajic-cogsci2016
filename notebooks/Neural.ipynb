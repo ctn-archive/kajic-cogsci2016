{
 "cells": [
  {
   "cell_type": "code",
   "execution_count": 1,
   "metadata": {
    "collapsed": true
   },
   "outputs": [],
   "source": [
    "import os.path\n",
    "import sys\n",
    "sys.path.insert(0, os.path.join(os.pardir, 'sparat'))\n",
    "\n",
    "import numpy as np\n",
    "import matplotlib.pyplot as plt\n",
    "from scipy.interpolate import interp1d\n",
    "import seaborn as sns\n",
    "\n",
    "from data_processing.rat import load_rat_items\n",
    "from data_processing.generate_association_matrix import load_assoc_mat\n",
    "\n",
    "%matplotlib inline"
   ]
  },
  {
   "cell_type": "code",
   "execution_count": 2,
   "metadata": {
    "collapsed": false
   },
   "outputs": [],
   "source": [
    "data = np.load(os.path.join(os.pardir, 'data', 'FfwdConnectionsRat.npz'))\n",
    "rat_items = load_rat_items(os.path.join(os.pardir, 'data', 'rat', 'example.txt'))"
   ]
  },
  {
   "cell_type": "code",
   "execution_count": 3,
   "metadata": {
    "collapsed": false
   },
   "outputs": [],
   "source": [
    "similarities = np.dot(data['vocab_vectors'], data['output'].T)"
   ]
  },
  {
   "cell_type": "code",
   "execution_count": 4,
   "metadata": {
    "collapsed": false
   },
   "outputs": [],
   "source": [
    "target_indices = [np.where([y.decode() == x.target for y in data['vocab_keys']])[0][0] for x in rat_items]"
   ]
  },
  {
   "cell_type": "code",
   "execution_count": 5,
   "metadata": {
    "collapsed": false
   },
   "outputs": [],
   "source": [
    "selection_intervals = [(0.5, 1.9), (2.5, 3.9), (4.5, 5.9)]\n",
    "followup_indices = [\n",
    "    np.argsort(np.mean(similarities[:, np.logical_and(data['trange'] >= l, data['trange'] < u)], axis=1))[::-1][:2]\n",
    "    for (l, u) in selection_intervals\n",
    "]\n",
    "followup_indices = [x if x != target_indices[i] else y for i, (x, y) in enumerate(followup_indices)]"
   ]
  },
  {
   "cell_type": "code",
   "execution_count": 6,
   "metadata": {
    "collapsed": true
   },
   "outputs": [],
   "source": [
    "condlist = [data['trange'] < 2. * i for i in range(1, len(target_indices) + 1)]\n",
    "target_sim = np.select(\n",
    "    condlist,\n",
    "    [similarities[target_indices[i]] for i in range(len(target_indices))])\n",
    "followup_sim = np.select(\n",
    "    condlist,\n",
    "    [similarities[followup_indices[i]] for i in range(len(target_indices))])"
   ]
  },
  {
   "cell_type": "code",
   "execution_count": 7,
   "metadata": {
    "collapsed": false
   },
   "outputs": [],
   "source": [
    "assoc, i2w, w2i = load_assoc_mat(os.path.join(\n",
    "    os.pardir, 'data', 'associationmatrices'), 'freeassoc_asymmetric')\n",
    "rat_items = load_rat_items(os.path.join(os.pardir, 'data', 'rat', 'example.txt'))\n",
    "ground_truth = np.array([np.sum([assoc[w2i[c]] for c in item.cues], axis=0) / 3. for item in rat_items])\n",
    "target_ground_truth = np.select(condlist, [ground_truth[i, target_indices[i]] for i in range(len(rat_items))])\n",
    "followup_ground_truth = np.select(condlist, [ground_truth[i, followup_indices[i]] for i in range(len(rat_items))])"
   ]
  },
  {
   "cell_type": "code",
   "execution_count": 8,
   "metadata": {
    "collapsed": true
   },
   "outputs": [],
   "source": [
    "import matplotlib\n",
    "import numpy\n",
    "import scipy\n",
    "import scipy.ndimage\n",
    "\n",
    "def add_spikes(ax, time, data, sample_by_variance=None,\n",
    "                     sample=None, sample_filter_width=20,\n",
    "                     cluster=False, cluster_filter_width=2,\n",
    "                     merge=None, contrast_scale=1.0, yticks=None,\n",
    "                     sample_index=None, cluster_index=None):\n",
    "\n",
    "    if sample_index:\n",
    "        data = data[:, sample_index]    \n",
    "    elif sample_by_variance is not None and sample_by_variance<len(data.T):\n",
    "        dd=scipy.ndimage.gaussian_filter1d(data.astype(float).T,sample_filter_width,axis=1)\n",
    "        vard=numpy.var(dd,axis=1)\n",
    "\n",
    "        threshold=sorted(vard)[-sample_by_variance]                        \n",
    "        index=[k for k,v in enumerate(vard) if v>=threshold]\n",
    "        data=data[:,index]\n",
    "\n",
    "    if sample is not None and sample<len(data.T):    \n",
    "        stepsize=float(len(data.T))/sample\n",
    "        data2=[]\n",
    "        for k in range(sample):\n",
    "            sub=data[:,int(k*stepsize):int((k+1)*stepsize)]\n",
    "            count=numpy.sum(sub,axis=0)\n",
    "            maxv=max(count)\n",
    "            for i,v in enumerate(count):\n",
    "                if v==maxv: \n",
    "                    data2.append(sub[:,i])\n",
    "                    break\n",
    "        data=numpy.array(data2).T    \n",
    "\n",
    "    if cluster_index:\n",
    "        data = data[:, cluster_index]    \n",
    "    elif cluster:\n",
    "        dd=scipy.ndimage.gaussian_filter1d(data.astype(float).T,cluster_filter_width,axis=1)\n",
    "        z=scipy.cluster.hierarchy.linkage(dd)\n",
    "        tree=scipy.cluster.hierarchy.to_tree(z)\n",
    "        order=tree.pre_order()\n",
    "        data=data[:,order]\n",
    "    if merge is not None and merge<len(data.T):    \n",
    "        stepsize=float(len(data.T))/merge\n",
    "        data2=[]\n",
    "        for k in range(merge):\n",
    "            v=numpy.sum(data[:,int(k*stepsize):int((k+1)*stepsize)],axis=1)\n",
    "            data2.append(v)\n",
    "        data=numpy.array(data2).T    \n",
    "\n",
    "                  \n",
    "    imgplt=ax.imshow(data.T,aspect='auto',cmap=matplotlib.cm.gray_r,interpolation='nearest',extent=(time[0],time[-1],0,len(data.T)))\n",
    "    imgplt.set_clim(0.0,numpy.max(data)*contrast_scale)"
   ]
  },
  {
   "cell_type": "code",
   "execution_count": 9,
   "metadata": {
    "collapsed": true
   },
   "outputs": [],
   "source": [
    "sns.set('paper', 'ticks')\n",
    "\n",
    "column_width_pt = 243.91125\n",
    "pt2inch = 1. / 72.27\n",
    "column_width_inch = pt2inch * column_width_pt"
   ]
  },
  {
   "cell_type": "code",
   "execution_count": 10,
   "metadata": {
    "collapsed": false
   },
   "outputs": [
    {
     "data": {
      "image/png": "[encoded data removed]",
      "text/plain": [
       "<matplotlib.figure.Figure at 0x7f88552afbd0>"
      ]
     },
     "metadata": {},
     "output_type": "display_data"
    }
   ],
   "source": [
    "%matplotlib inline\n",
    "import matplotlib.gridspec as gridspec\n",
    "\n",
    "sns.set_style('ticks')\n",
    "fig = plt.figure(figsize=(column_width_inch, .8 * column_width_inch))\n",
    "gs = gridspec.GridSpec(2, 1, height_ratios=(1, 2))\n",
    "\n",
    "ax = fig.add_subplot(gs[0])\n",
    "add_spikes(ax, data['trange'], data['spikes'], sample_by_variance=40, sample_filter_width=200, cluster=True)\n",
    "ax.label_outer()\n",
    "ax.set_yticks([])\n",
    "ax.set_ylabel(\"Spikes\")\n",
    "sns.despine(ax=ax)\n",
    "\n",
    "ax = fig.add_subplot(gs[1], sharex=ax)\n",
    "colors = sns.color_palette(n_colors=2)\n",
    "ax.plot(data['trange'], target_sim, c=colors[0], alpha=0.5)\n",
    "ax.plot(data['trange'], followup_sim, c=colors[1], alpha=0.5)\n",
    "ax.plot(data['trange'], target_ground_truth, c=colors[0], label=\"Correct solution\")\n",
    "ax.plot(data['trange'], followup_ground_truth, c=colors[1], label=\"Wrong word\")\n",
    "ax.set_ylim(bottom=0)\n",
    "ax.label_outer()\n",
    "ax.set_xlabel(\"Time [s]\")\n",
    "ax.set_ylabel(\"Similarity\")\n",
    "ax.set_ylim(0, 0.35)\n",
    "ax.legend(loc='best')\n",
    "sns.despine(ax=ax)\n",
    "\n",
    "plt.tight_layout()"
   ]
  },
  {
   "cell_type": "code",
   "execution_count": 12,
   "metadata": {
    "collapsed": true
   },
   "outputs": [],
   "source": [
    "fig.savefig(os.path.join(os.pardir, 'txt', 'cogsci-paper', 'figures', 'spikes.pdf'), dpi=600)"
   ]
  },
  {
   "cell_type": "code",
   "execution_count": null,
   "metadata": {
    "collapsed": true
   },
   "outputs": [],
   "source": []
  }
 ],
 "metadata": {
  "kernelspec": {
   "display_name": "Python 2",
   "language": "python",
   "name": "python2"
  },
  "language_info": {
   "codemirror_mode": {
    "name": "ipython",
    "version": 2
   },
   "file_extension": ".py",
   "mimetype": "text/x-python",
   "name": "python",
   "nbconvert_exporter": "python",
   "pygments_lexer": "ipython2",
   "version": "2.7.11"
  }
 },
 "nbformat": 4,
 "nbformat_minor": 0
}
